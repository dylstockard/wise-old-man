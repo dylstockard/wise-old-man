{
 "cells": [
  {
   "cell_type": "code",
   "execution_count": null,
   "metadata": {},
   "outputs": [],
   "source": [
    "# Load the API key\n",
    "from dotenv import load_dotenv\n",
    "import os\n",
    "\n",
    "config_dir = \"config\"\n",
    "dotenv_path = os.path.join(config_dir, \".env\")\n",
    "load_dotenv(dotenv_path)\n",
    "\n",
    "\n",
    "# Load the prompts\n",
    "import yaml\n",
    "\n",
    "def load_prompts(prompt_file):\n",
    "    \"\"\"Loads prompts from a YAML file.\"\"\"\n",
    "    with open(prompt_file, \"r\") as file:\n",
    "        return yaml.safe_load(file)\n",
    "\n",
    "prompt_path = \"prompts.yaml\"\n",
    "PROMPTS = load_prompts(prompt_path)\n",
    "print(type(PROMPTS))\n",
    "\n",
    "\n",
    "# Import langchain libraries\n",
    "from langchain_openai import ChatOpenAI\n",
    "from langchain_core.prompts import ChatPromptTemplate\n",
    "from langchain_core.output_parsers import StrOutputParser"
   ]
  },
  {
   "cell_type": "code",
   "execution_count": null,
   "metadata": {},
   "outputs": [],
   "source": [
    "# Define the LLM model\n",
    "model = ChatOpenAI(model=\"gpt-3.5-turbo\")\n",
    "\n",
    "# Define the output parser\n",
    "parser = StrOutputParser()\n",
    "\n",
    "# Define the prompt template\n",
    "prompt_template = ChatPromptTemplate.from_messages(\n",
    "    [(\"system\", PROMPTS[\"system_prompt\"]), (\"user\", \"{input}\")]\n",
    ")\n",
    "\n",
    "# Define the system prompt args\n",
    "character = \"the wise old man\"\n",
    "token_limit = 200\n",
    "\n",
    "# Define the user input\n",
    "input = \"What is ironman mode?\"\n",
    "\n",
    "# Adjust the prompt for the user input\n",
    "final_prompt = prompt_template.invoke(\n",
    "    {\"character\": character, \"tokens\": token_limit, \"input\": input}\n",
    ")\n",
    "final_prompt.to_messages()"
   ]
  },
  {
   "cell_type": "code",
   "execution_count": null,
   "metadata": {},
   "outputs": [],
   "source": [
    "# Create a chain\n",
    "chain = prompt_template | model | parser\n",
    "\n",
    "# Invoke the chain\n",
    "chain.invoke(\n",
    "    {\"character\": character, \"tokens\": token_limit, \"input\": input}\n",
    ")"
   ]
  },
  {
   "cell_type": "markdown",
   "metadata": {},
   "source": [
    "# Runelite API"
   ]
  },
  {
   "cell_type": "code",
   "execution_count": 6,
   "metadata": {},
   "outputs": [],
   "source": [
    "import requests\n",
    "\n",
    "base_url = \"https://api.runelite.net\"\n"
   ]
  },
  {
   "cell_type": "code",
   "execution_count": null,
   "metadata": {},
   "outputs": [],
   "source": [
    "# Step 1: Define the RuneLite API URL for Grand Exchange data\n",
    "abyssal_whip_id = \"/runelite-1.10.41.1#/ge/items/4151\"\n",
    "\n",
    "url = base_url + abyssal_whip_id\n",
    "\n",
    "# Step 2: Send the request\n",
    "response = requests.get(base_url)\n",
    "print(response)\n",
    "# Step 3: Handle the response\n",
    "for line in response.iter_lines():\n",
    "    print(line)\n"
   ]
  },
  {
   "cell_type": "markdown",
   "metadata": {},
   "source": [
    "# Wiki pulls"
   ]
  },
  {
   "cell_type": "code",
   "execution_count": 77,
   "metadata": {},
   "outputs": [
    {
     "name": "stdout",
     "output_type": "stream",
     "text": [
      "{'batchcomplete': '', 'warnings': {'main': {'*': 'Subscribe to the mediawiki-api-announce mailing list at <https://lists.wikimedia.org/postorius/lists/mediawiki-api-announce.lists.wikimedia.org/> for notice of API deprecations and breaking changes.'}, 'revisions': {'*': 'Because \"rvslots\" was not specified, a legacy format has been used for the output. This format is deprecated, and in the future the new format will always be used.'}}, 'query': {'normalized': [{'from': 'The_fight_caves', 'to': 'The fight caves'}], 'pages': {'387569': {'pageid': 387569, 'ns': 0, 'title': 'The fight caves', 'revisions': [{'contentformat': 'text/x-wiki', 'contentmodel': 'wikitext', '*': '#REDIRECT [[TzHaar Fight Cave]]'}]}}}}\n"
     ]
    },
    {
     "data": {
      "text/plain": [
       "'#REDIRECT [[TzHaar Fight Cave]]'"
      ]
     },
     "execution_count": 77,
     "metadata": {},
     "output_type": "execute_result"
    }
   ],
   "source": [
    "import requests\n",
    "\n",
    "url = \"https://oldschool.runescape.wiki/api.php?action=query&prop=revisions&format=json&rvprop=content&titles=The_fight_caves\"\n",
    "\n",
    "response = requests.get(url)\n",
    "data = response.json()\n",
    "print(data)\n",
    "page_id = list(data[\"query\"][\"pages\"].keys())[0]\n",
    "data[\"query\"][\"pages\"][page_id][\"revisions\"][0][\"*\"]"
   ]
  }
 ],
 "metadata": {
  "kernelspec": {
   "display_name": "old_man",
   "language": "python",
   "name": "python3"
  },
  "language_info": {
   "codemirror_mode": {
    "name": "ipython",
    "version": 3
   },
   "file_extension": ".py",
   "mimetype": "text/x-python",
   "name": "python",
   "nbconvert_exporter": "python",
   "pygments_lexer": "ipython3",
   "version": "3.13.0"
  }
 },
 "nbformat": 4,
 "nbformat_minor": 2
}
